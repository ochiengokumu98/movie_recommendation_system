{
 "cells": [
  {
   "cell_type": "markdown",
   "id": "3634d0ff-ea3c-4471-a446-29c37eeb4a8e",
   "metadata": {},
   "source": [
    "This jupyter notebook is for a movie recommendation system as per the movies watched between 2021 to 2024.\n",
    "The recommendation is based on contents of the movie a peroson watches."
   ]
  },
  {
   "cell_type": "markdown",
   "id": "d720534d-342e-4ae6-a58e-54128675d285",
   "metadata": {},
   "source": [
    "Lets beging by installing all the tools and libraries we are going to need."
   ]
  },
  {
   "cell_type": "code",
   "execution_count": null,
   "id": "eedd5664-b674-4a80-88b4-0813c9f498e1",
   "metadata": {},
   "outputs": [],
   "source": [
    "!pip install pandas scikit-learn streamlit\n",
    "!pip install scikit-surprise       # For collaborative filtering\n",
    "!pip install matplotlib seaborn    # For any visualization\n",
    "!pip install requests              # For fetching movie posters from TMDb API\n"
   ]
  },
  {
   "cell_type": "code",
   "execution_count": 3,
   "id": "1eadcef7-4954-435f-927c-1812f8ef7417",
   "metadata": {},
   "outputs": [],
   "source": [
    "# loading data.\n",
    "import pandas as pd\n",
    "\n",
    "movies = pd.read_csv(\"movies.csv\")\n",
    "ratings = pd.read_csv(\"ratings.csv\")\n",
    "tags = pd.read_csv(\"tags.csv\")\n"
   ]
  },
  {
   "cell_type": "code",
   "execution_count": 4,
   "id": "32e23adf-82be-4c90-a6e4-864499758821",
   "metadata": {},
   "outputs": [],
   "source": [
    "# lets load links data.\n",
    "links=pd.read_csv(\"links.csv\")"
   ]
  },
  {
   "cell_type": "code",
   "execution_count": 5,
   "id": "25ecad47-712b-43a5-8f7f-0d2abcfd6a9a",
   "metadata": {},
   "outputs": [
    {
     "name": "stdout",
     "output_type": "stream",
     "text": [
      "🎬 Movies:\n",
      "   movieId                               title  \\\n",
      "0        1                    Toy Story (1995)   \n",
      "1        2                      Jumanji (1995)   \n",
      "2        3             Grumpier Old Men (1995)   \n",
      "3        4            Waiting to Exhale (1995)   \n",
      "4        5  Father of the Bride Part II (1995)   \n",
      "\n",
      "                                        genres  \n",
      "0  Adventure|Animation|Children|Comedy|Fantasy  \n",
      "1                   Adventure|Children|Fantasy  \n",
      "2                               Comedy|Romance  \n",
      "3                         Comedy|Drama|Romance  \n",
      "4                                       Comedy  \n",
      "\n",
      "⭐ Ratings:\n",
      "   userId  movieId  rating  timestamp\n",
      "0       1       17     4.0  944249077\n",
      "1       1       25     1.0  944250228\n",
      "2       1       29     2.0  943230976\n",
      "3       1       30     5.0  944249077\n",
      "4       1       32     5.0  943228858\n",
      "\n",
      "🏷️ Tags:\n",
      "   userId  movieId          tag   timestamp\n",
      "0      22    26479  Kevin Kline  1583038886\n",
      "1      22    79592     misogyny  1581476297\n",
      "2      22   247150   acrophobia  1622483469\n",
      "3      34     2174        music  1249808064\n",
      "4      34     2174        weird  1249808102\n",
      "\n",
      "🔗 Links:\n",
      "   movieId  imdbId   tmdbId\n",
      "0        1  114709    862.0\n",
      "1        2  113497   8844.0\n",
      "2        3  113228  15602.0\n",
      "3        4  114885  31357.0\n",
      "4        5  113041  11862.0\n"
     ]
    }
   ],
   "source": [
    " #displaying first five rows in each dataset\n",
    "print(\"🎬 Movies:\")\n",
    "print(movies.head())\n",
    "\n",
    "print(\"\\n⭐ Ratings:\")\n",
    "print(ratings.head())\n",
    "\n",
    "print(\"\\n🏷️ Tags:\")\n",
    "print(tags.head())\n",
    "\n",
    "print(\"\\n🔗 Links:\")\n",
    "print(links.head())\n"
   ]
  },
  {
   "cell_type": "markdown",
   "id": "436df711-0fba-449c-a4fe-38af7ff12f84",
   "metadata": {},
   "source": [
    "Now the next step is to  Merge and Prepare Data for Content-Based Filtering. We are going to recommend \n",
    "our movie based on the content."
   ]
  },
  {
   "cell_type": "code",
   "execution_count": 7,
   "id": "25a1759a-74e3-413d-ba3c-71adc1c45255",
   "metadata": {},
   "outputs": [
    {
     "name": "stdout",
     "output_type": "stream",
     "text": [
      "\n",
      "🎬 Movies with Combined Content:\n",
      "   movieId                               title  \\\n",
      "0        1                    Toy Story (1995)   \n",
      "1        2                      Jumanji (1995)   \n",
      "2        3             Grumpier Old Men (1995)   \n",
      "3        4            Waiting to Exhale (1995)   \n",
      "4        5  Father of the Bride Part II (1995)   \n",
      "\n",
      "                                        genres  \\\n",
      "0  Adventure Animation Children Comedy Fantasy   \n",
      "1                   Adventure Children Fantasy   \n",
      "2                               Comedy Romance   \n",
      "3                         Comedy Drama Romance   \n",
      "4                                       Comedy   \n",
      "\n",
      "                                                 tag  \\\n",
      "0  children Disney animation children Disney Disn...   \n",
      "1  Robin Williams fantasy Robin Williams time tra...   \n",
      "2  comedinha de velhinhos engraÃƒÂ§ada comedinha ...   \n",
      "3  characters slurs based on novel or book chick ...   \n",
      "4  Fantasy pregnancy remake family Steve Martin s...   \n",
      "\n",
      "                                             content  \n",
      "0  Adventure Animation Children Comedy Fantasy ch...  \n",
      "1  Adventure Children Fantasy Robin Williams fant...  \n",
      "2  Comedy Romance comedinha de velhinhos engraÃƒÂ...  \n",
      "3  Comedy Drama Romance characters slurs based on...  \n",
      "4  Comedy Fantasy pregnancy remake family Steve M...  \n"
     ]
    }
   ],
   "source": [
    "# Clean genres by replacing \"|\" with spaces\n",
    "movies['genres'] = movies['genres'].str.replace('|', ' ', regex=False)\n",
    "\n",
    "# Merge tags into a single string per movie\n",
    "#we are also replacing null(NaN) values with empty strings \n",
    "tags['tag'] = tags['tag'].fillna('').astype(str)\n",
    "tags_grouped = tags.groupby('movieId')['tag'].apply(lambda x: ' '.join(x)).reset_index()\n",
    "\n",
    "# Merge tags into movies\n",
    "movies = pd.merge(movies, tags_grouped, on='movieId', how='left')\n",
    "\n",
    "# Fill missing tags with empty string\n",
    "movies['tag'] = movies['tag'].fillna('')\n",
    "\n",
    "# Combine genres and tags into a new 'content' column\n",
    "movies['content'] = movies['genres'] + ' ' + movies['tag']\n",
    "\n",
    "# Preview the new data\n",
    "print(\"\\n🎬 Movies with Combined Content:\")\n",
    "print(movies[['movieId', 'title', 'genres', 'tag', 'content']].head())\n"
   ]
  },
  {
   "cell_type": "raw",
   "id": "38117e52-a129-4e83-8cb9-cc777620f46f",
   "metadata": {},
   "source": [
    "Transform the content text into numerical vectors using TF-IDF (Term Frequency–Inverse Document Frequency).\n",
    "💡 Why TF-IDF? \n",
    "It gives us a weighted score for each word in the content based on:\n",
    "1. How often it appears in a movie's description\n",
    "2. How unique it is across all movies\n",
    "This lets us calculate similarity between movies based on their descriptions."
   ]
  },
  {
   "cell_type": "code",
   "execution_count": 8,
   "id": "9a43fcae-fd98-4398-b6e6-a7ba70218091",
   "metadata": {},
   "outputs": [
    {
     "name": "stdout",
     "output_type": "stream",
     "text": [
      "\n",
      "🔢 TF-IDF Matrix Shape: (10000, 31369)\n",
      "\n",
      "🎯 Because you liked: House of Cards (1993)\n",
      "👉 You might also like:\n",
      "1. Isn't She Great? (2000)\n",
      "2. Men in Black II (a.k.a. MIIB) (a.k.a. MIB 2) (2002)\n",
      "3. Black Moon Rising (1986)\n",
      "4. Man of the House (2005)\n",
      "5. U.S. Marshals (1998)\n"
     ]
    }
   ],
   "source": [
    "# 1️⃣ Import TF-IDF and similarity tools\n",
    "from sklearn.feature_extraction.text import TfidfVectorizer\n",
    "from sklearn.metrics.pairwise import linear_kernel\n",
    "\n",
    "#lets use 1000 rows to save on memory space.\n",
    "movies=movies.head(10000)\n",
    "# 2️⃣ Create a TF-IDF vectorizer and transform the content\n",
    "tfidf = TfidfVectorizer(stop_words='english')        # Removes common English words like 'the', 'is', etc.\n",
    "tfidf_matrix = tfidf.fit_transform(movies['content'])  # Converts movie descriptions into vectors\n",
    "\n",
    "# 3️⃣ Check the shape of the matrix (num_movies x num_features)\n",
    "print(\"\\n🔢 TF-IDF Matrix Shape:\", tfidf_matrix.shape)\n",
    "\n",
    "# 4️⃣ Compute cosine similarity between all movies\n",
    "\n",
    "cosine_sim = linear_kernel(tfidf_matrix, tfidf_matrix)  # Each value [i][j] tells how similar movie i is to movie j\n",
    "\n",
    "# 5️⃣ Create a reverse lookup map: title → index\n",
    "indices = pd.Series(movies.index, index=movies['title']).drop_duplicates()\n",
    "\n",
    "# 6️⃣ Select a movie title to test the recommender\n",
    "movie_title = \"House of Cards (1993)\"      # Change this to test with other movies\n",
    "idx = indices[movie_title]\n",
    "\n",
    "# 7️⃣ Get pairwise similarity scores of that movie with all others\n",
    "sim_scores = list(enumerate(cosine_sim[idx]))\n",
    "\n",
    "# 8️⃣ Sort movies by similarity score (most similar first)\n",
    "sim_scores = sorted(sim_scores, key=lambda x: x[1], reverse=True)\n",
    "\n",
    "# 9️⃣ Get the indices of the top 5 most similar movies (excluding itself)\n",
    "sim_scores = sim_scores[1:6]    # Skip the first one (the movie itself)\n",
    "movie_indices = [i[0] for i in sim_scores]\n",
    "\n",
    "# and laslty 10️⃣Print the recommended movie titles\n",
    "print(\"\\n🎯 Because you liked:\", movie_title)\n",
    "print(\"👉 You might also like:\")\n",
    "for i, title in enumerate(movies['title'].iloc[movie_indices], 1):\n",
    "    print(f\"{i}. {title}\")\n"
   ]
  },
  {
   "cell_type": "markdown",
   "id": "0edadfa6-9287-40ba-b114-f9b2f3617acf",
   "metadata": {},
   "source": [
    "Instead of using TF-IDF, we can use NearestNeighbors which is efficient for large dataset like this one of ours."
   ]
  },
  {
   "cell_type": "code",
   "execution_count": 24,
   "id": "afc985e9-b662-4cd0-b76b-53a7e58b3e94",
   "metadata": {},
   "outputs": [
    {
     "name": "stdout",
     "output_type": "stream",
     "text": [
      "\n",
      "🎯 Because you liked: House of Cards (1993)\n",
      "👉 You might also like:\n",
      "1. Isn't She Great? (2000)\n",
      "2. Men in Black II (a.k.a. MIIB) (a.k.a. MIB 2) (2002)\n",
      "3. Black Moon Rising (1986)\n",
      "4. Man of the House (2005)\n",
      "5. U.S. Marshals (1998)\n"
     ]
    }
   ],
   "source": [
    "\n",
    "# 4️⃣ Use Nearest Neighbors instead of full cosine similarity matrix\n",
    "from sklearn.neighbors import NearestNeighbors\n",
    "\n",
    "# Use cosine distance (1 - cosine similarity)\n",
    "nn = NearestNeighbors(metric='cosine', algorithm='brute')\n",
    "nn.fit(tfidf_matrix)\n",
    "\n",
    "# -------------------------------\n",
    "# 6️⃣ Pick a movie and find its index\n",
    "# -------------------------------\n",
    "movie_title =\"House of Cards (1993)\" #this one you can change to match your like.\n",
    "idx = indices[movie_title]\n",
    "# 7️⃣ Find top 5 nearest neighbors (excluding itself)\n",
    "\n",
    "distances, indices_recommended = nn.kneighbors(tfidf_matrix[idx], n_neighbors=6)\n",
    "\n",
    "# lastly 8️⃣ Print the top recommended titles\n",
    "print(\"\\n🎯 Because you liked:\", movie_title)\n",
    "print(\"👉 You might also like:\")\n",
    "for i, idx in enumerate(indices_recommended[0][1:], 1):  # Skip the first (the movie itself)\n",
    "    print(f\"{i}. {movies['title'].iloc[idx]}\")\n"
   ]
  },
  {
   "cell_type": "markdown",
   "id": "642c23c4-8a33-4184-9bff-4915ddb67202",
   "metadata": {},
   "source": [
    "Lets now try work out the UI for the movie recommendation."
   ]
  },
  {
   "cell_type": "code",
   "execution_count": 9,
   "id": "a75508d6-d7f0-412d-96e7-8bf10dea8c8d",
   "metadata": {},
   "outputs": [],
   "source": [
    "# Write Streamlit app to app.py\n",
    "with open(\"app.py\", \"w\", encoding=\"utf-8\") as f:\n",
    "    f.write('''\\\n",
    "import streamlit as st\n",
    "import pandas as pd\n",
    "from sklearn.feature_extraction.text import TfidfVectorizer\n",
    "from sklearn.neighbors import NearestNeighbors\n",
    "\n",
    "# Load data\n",
    "movies = pd.read_csv(\"movies.csv\")\n",
    "tags = pd.read_csv(\"tags.csv\")\n",
    "\n",
    "# Clean and prepare\n",
    "movies['genres'] = movies['genres'].str.replace('|', ' ', regex=False)\n",
    "tags['tag'] = tags['tag'].fillna('').astype(str)\n",
    "tags_grouped = tags.groupby('movieId')['tag'].apply(lambda x: ' '.join(x)).reset_index()\n",
    "movies = pd.merge(movies, tags_grouped, on='movieId', how='left')\n",
    "movies['tag'] = movies['tag'].fillna('')\n",
    "movies['content'] = movies['genres'] + ' ' + movies['tag']\n",
    "\n",
    "# TF-IDF\n",
    "tfidf = TfidfVectorizer(stop_words='english')\n",
    "tfidf_matrix = tfidf.fit_transform(movies['content'])\n",
    "\n",
    "# NearestNeighbors\n",
    "nn = NearestNeighbors(metric='cosine', algorithm='brute')\n",
    "nn.fit(tfidf_matrix)\n",
    "\n",
    "# Reverse index\n",
    "title_to_index = pd.Series(movies.index, index=movies['title']).drop_duplicates()\n",
    "\n",
    "# Streamlit UI\n",
    "st.title(\"🎬 Movie Recommendation System\")\n",
    "st.write(\"Select a movie to get similar recommendations:\")\n",
    "\n",
    "selected_movie = st.selectbox(\"Choose a movie\", movies['title'].sort_values())\n",
    "\n",
    "if st.button(\"Recommend\"):\n",
    "    idx = title_to_index[selected_movie]\n",
    "    distances, indices_recommended = nn.kneighbors(tfidf_matrix[idx], n_neighbors=6)\n",
    "\n",
    "    st.subheader(\"🎯 Because you liked: \" + selected_movie)\n",
    "    st.write(\"👉 You might also like:\")\n",
    "    for i, rec_idx in enumerate(indices_recommended[0][1:], 1):\n",
    "        st.write(f\"{i}. {movies['title'].iloc[rec_idx]}\")\n",
    "''')\n"
   ]
  },
  {
   "cell_type": "code",
   "execution_count": 11,
   "id": "2266b227-ee99-4e29-a41f-d47d6116abc7",
   "metadata": {},
   "outputs": [
    {
     "name": "stdout",
     "output_type": "stream",
     "text": [
      "^C\n"
     ]
    }
   ],
   "source": [
    "!streamlit run app.py"
   ]
  }
 ],
 "metadata": {
  "kernelspec": {
   "display_name": "Python 3 (ipykernel)",
   "language": "python",
   "name": "python3"
  },
  "language_info": {
   "codemirror_mode": {
    "name": "ipython",
    "version": 3
   },
   "file_extension": ".py",
   "mimetype": "text/x-python",
   "name": "python",
   "nbconvert_exporter": "python",
   "pygments_lexer": "ipython3",
   "version": "3.12.8"
  }
 },
 "nbformat": 4,
 "nbformat_minor": 5
}
